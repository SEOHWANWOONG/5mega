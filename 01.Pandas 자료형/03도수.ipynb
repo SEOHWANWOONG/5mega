{
 "cells": [
  {
   "cell_type": "markdown",
   "metadata": {},
   "source": [
    "# 도수\n",
    "\n",
    "특정한 구간 또는 범주에 속하는 자료의 개수\n",
    "\n",
    "예를 들어, 어떤 학급의 학생들의 시험 점수를 기록한다면 각 점수 대역에 속하는 학생의\n",
    "수를 세어 도수를 구할 수 있다.\n"
   ]
  },
  {
   "cell_type": "markdown",
   "metadata": {},
   "source": [
    "도수 분포표\n",
    "\n",
    "도수들을 정리하여 국간별 도수를 표로 나타낸 것\n",
    "\n",
    "도수분포는 평균, 중앙값, 최빈값과 같은 중심경향성 통계량을 계산하거나 자료의 분산과 \n",
    "퍼짐 정도를 파악하는 데에도 사용된다.\n",
    "\n",
    "이를 통해 데이터의 특성을 더 잘 이해하고 추론할 수 있다.\n",
    "\n"
   ]
  },
  {
   "cell_type": "code",
   "execution_count": 1,
   "metadata": {},
   "outputs": [],
   "source": [
    "### 준비과정\n",
    "\n",
    "### 패키지 참조\n",
    "\n",
    "import numpy as np"
   ]
  },
  {
   "cell_type": "code",
   "execution_count": 2,
   "metadata": {},
   "outputs": [
    {
     "data": {
      "text/plain": [
       "array([100,  91,  89,  86,  84,  79,  78,  77,  74,  71,  69,  66,  65,\n",
       "        60,  58,  57,  55])"
      ]
     },
     "execution_count": 2,
     "metadata": {},
     "output_type": "execute_result"
    }
   ],
   "source": [
    "point = np.array([100, 91, 89, 86, 84, 79, 78, 77, 74, 71, 69, 66, 65, 60, 58, 57, 55])\n",
    "point"
   ]
  },
  {
   "cell_type": "markdown",
   "metadata": {},
   "source": [
    "히스토그램(histogram): \n",
    "\n",
    "> 도수분포도를 정보 그림의 한 눈에 보기 쉽게 표현한것"
   ]
  },
  {
   "cell_type": "code",
   "execution_count": 4,
   "metadata": {},
   "outputs": [
    {
     "name": "stdout",
     "output_type": "stream",
     "text": [
      "구간별 데이터 수: [4 4 4 3 2]\n",
      "구간별 경계: [ 55.  64.  73.  82.  91. 100.]\n"
     ]
    }
   ],
   "source": [
    "hist, bins = np.histogram(point, 5)\n",
    "\n",
    "print(\"구간별 데이터 수:\",hist)\n",
    "print(\"구간별 경계:\", bins)"
   ]
  },
  {
   "cell_type": "code",
   "execution_count": 5,
   "metadata": {},
   "outputs": [],
   "source": [
    "# 데이터 구간 개수로 나누기\n"
   ]
  },
  {
   "cell_type": "code",
   "execution_count": null,
   "metadata": {},
   "outputs": [],
   "source": []
  },
  {
   "cell_type": "code",
   "execution_count": null,
   "metadata": {},
   "outputs": [],
   "source": []
  },
  {
   "cell_type": "code",
   "execution_count": 7,
   "metadata": {},
   "outputs": [
    {
     "name": "stdout",
     "output_type": "stream",
     "text": [
      "구간별 데이터 수: [3 4 5 3 2]\n",
      "구간별 경계: [ 50  60  70  80  90 100]\n"
     ]
    }
   ],
   "source": [
    "# 데이터 구간을 직접 정의하기\n",
    "\n",
    "hist, bins = np.histogram(point, [50, 60, 70, 80, 90, 100])\n",
    "\n",
    "\n",
    "print(\"구간별 데이터 수:\",hist)\n",
    "print(\"구간별 경계:\", bins)"
   ]
  },
  {
   "cell_type": "markdown",
   "metadata": {},
   "source": [
    "# 도수\n",
    "\n",
    "## 특정한 구간 또는 범주에 속하는 자료의 개수\n",
    "\n",
    "### ex: 어떤 학급의 학생들의 시험 점수를 기록한다면 각 점수 대역에 속하는 학생의 수를 세어 도수를 구할 수 있다"
   ]
  },
  {
   "cell_type": "markdown",
   "metadata": {},
   "source": [
    "도수 분포표\n",
    "\n",
    "도수들을 정리하여 구간별 도수를 표로 나타낸 것\n",
    "\n",
    "도수분포는 평균, 중앙값, 최빈값과 같은 중심경향성(데이터의 중심이 어디있는 지를 나타내는 지표) 통계량을 계산하거나 자료의 분산과 퍼짐 정도를 파악하는 데에도 사용된다.\n",
    "이를 통해 데이터의 특성을 더 잘 이해하고 추론할 수 있다."
   ]
  },
  {
   "cell_type": "code",
   "execution_count": 2,
   "metadata": {},
   "outputs": [],
   "source": [
    "import numpy as np"
   ]
  },
  {
   "cell_type": "code",
   "execution_count": 3,
   "metadata": {},
   "outputs": [
    {
     "data": {
      "text/plain": [
       "array([100,  91,  89,  86,  84,  79,  78,  77,  74,  71,  69,  66,  65,\n",
       "        60,  58,  57,  55])"
      ]
     },
     "execution_count": 3,
     "metadata": {},
     "output_type": "execute_result"
    }
   ],
   "source": [
    "# 샘플 데이터\n",
    "\n",
    "point = np.array([100, 91, 89, 86, 84, 79, 78, 77, 74, 71, 69, 66, 65, 60, 58, 57, 55])\n",
    "\n",
    "point"
   ]
  },
  {
   "cell_type": "code",
   "execution_count": 5,
   "metadata": {},
   "outputs": [
    {
     "name": "stdout",
     "output_type": "stream",
     "text": [
      "구간 경계: (array([4, 4, 4, 3, 2], dtype=int64), array([ 55.,  64.,  73.,  82.,  91., 100.]))\n"
     ]
    }
   ],
   "source": [
    "# Numpy의 histogradm : 도수분포도를 표형식으로 표현한것\n",
    "# [1] 5개의 구간으로 나누기 (범위는 함수내에서 임의적으로 생성됨)\n",
    "\n",
    "b = np.histogram(point, 5)\n",
    "\n",
    "\n",
    "\n",
    "print(\"구간 경계:\", b)"
   ]
  },
  {
   "cell_type": "code",
   "execution_count": 6,
   "metadata": {},
   "outputs": [
    {
     "name": "stdout",
     "output_type": "stream",
     "text": [
      "55이상 64미만: 4개\n",
      "64이상 73미만: 4개\n",
      "73이상 82미만: 4개\n",
      "82이상 91미만: 3개\n",
      "91이상 100이하: 2개\n"
     ]
    }
   ],
   "source": [
    "# 도수 분포표 구성\n",
    "\n",
    "s = len(a)\n",
    "for i in range(0, s):\n",
    "    if i + 1 < s:\n",
    "        tpl = \"%d이상 %d미만: %d개\"\n",
    "    else:\n",
    "        tpl = \"%d이상 %d이하: %d개\"\n",
    "\n",
    "    print(tpl % (b[i], b[i+1], a[i])) \n"
   ]
  },
  {
   "cell_type": "code",
   "execution_count": 7,
   "metadata": {},
   "outputs": [
    {
     "name": "stdout",
     "output_type": "stream",
     "text": [
      "구간별 데이터 수: [4 4 4 3 2]\n",
      "구간 경계: [ 55.  64.  73.  82.  91. 100.]\n"
     ]
    }
   ],
   "source": [
    "# [2] 데이터 구간을 직접 정의하기\n",
    "\n",
    "hist, bins = np.histogram(point, [50, 60, 70, 80, 90, 100])\n",
    "\n",
    "print(\"구간별 데이터 수:\", a)\n",
    "print(\"구간 경계:\", b)"
   ]
  },
  {
   "cell_type": "markdown",
   "metadata": {},
   "source": [
    "절대 도수\n",
    "\n",
    "어떠한 변수에 대한 실제 빈도수\n",
    "\n",
    "`np.histogram()` 에서 리턴하는 `hist`값이 절대도수임\n",
    "\n",
    "상대도수\n",
    "\n",
    "절대도수를 백분률로 환산한 값\n",
    "\n",
    "각 도수를 도수의 총 합으로 나눈 값"
   ]
  },
  {
   "cell_type": "code",
   "execution_count": 8,
   "metadata": {},
   "outputs": [
    {
     "data": {
      "text/plain": [
       "array([0.23529412, 0.23529412, 0.23529412, 0.17647059, 0.11764706])"
      ]
     },
     "execution_count": 8,
     "metadata": {},
     "output_type": "execute_result"
    }
   ],
   "source": [
    "relative_freq = a / np.sum(a)\n",
    "relative_freq"
   ]
  },
  {
   "cell_type": "code",
   "execution_count": 9,
   "metadata": {},
   "outputs": [],
   "source": [
    "# 누적 도수\n",
    "\n",
    "# 절대도수에서 자기 앞 도수를 모두 다 더한 값"
   ]
  },
  {
   "cell_type": "code",
   "execution_count": 10,
   "metadata": {},
   "outputs": [
    {
     "data": {
      "text/plain": [
       "[3, 7, 12, 15, 17]"
      ]
     },
     "execution_count": 10,
     "metadata": {},
     "output_type": "execute_result"
    }
   ],
   "source": [
    "cum = []\n",
    "\n",
    "previous = 0\n",
    "\n",
    "for i in hist:\n",
    "    previous += i\n",
    "    cum.append(previous)\n",
    "\n",
    "cum"
   ]
  },
  {
   "cell_type": "code",
   "execution_count": null,
   "metadata": {},
   "outputs": [],
   "source": []
  },
  {
   "cell_type": "code",
   "execution_count": null,
   "metadata": {},
   "outputs": [],
   "source": []
  },
  {
   "cell_type": "code",
   "execution_count": null,
   "metadata": {},
   "outputs": [],
   "source": []
  }
 ],
 "metadata": {
  "kernelspec": {
   "display_name": "Python 3",
   "language": "python",
   "name": "python3"
  },
  "language_info": {
   "codemirror_mode": {
    "name": "ipython",
    "version": 3
   },
   "file_extension": ".py",
   "mimetype": "text/x-python",
   "name": "python",
   "nbconvert_exporter": "python",
   "pygments_lexer": "ipython3",
   "version": "3.12.0"
  }
 },
 "nbformat": 4,
 "nbformat_minor": 2
}
