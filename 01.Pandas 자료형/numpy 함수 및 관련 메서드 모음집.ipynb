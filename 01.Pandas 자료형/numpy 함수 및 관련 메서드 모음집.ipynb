{
 "cells": [
  {
   "cell_type": "markdown",
   "metadata": {},
   "source": [
    "|이름|내용|비고|\n",
    "|-------|-------|-------|\n",
    "|np, arr|np == numpy, arr = 배열변수|표의 효율을 높이기 위해 축약|\n",
    "|np.array|리스트, 튜플을 array배열 타입으로 바꿔줌|type = numpy.ndarray|\n",
    "|연산자| 동일한 인덱스 원소끼리 연산이 수행됨|[1, 3], [2, 4] => [3, 7]|\n",
    "|np.max()|배열의 최댓값||\n",
    "|np.min()|배열의 최솟값||\n",
    "|np.sum()|배열의 합계||\n",
    "|np.average()|배열의 평균||\n",
    "|np.var()|배열의 분산||\n",
    "|np.std()|배열의 표준편차||\n",
    "|arr[`조건`]|대괄호를 조건절이라고 이해하면 좋음|[True, False]:True의 원소만 추출|\n",
    "|``|``|[비교연산자]: 비교연산자에 참인 원소만 추출| \n",
    "|``|``|[np.logical_and(비교연산자 2개): 두 비교연산자에 모두 참인 원소만 추출 ]\n",
    "|``|``|[np.logical_or(비교연산자 2개): 두 비교연산자에 하나라도 참인 원소 추출]\n",
    "|np.histogram(arr, `구간 개수`)|구간의 개수를 지정하면 임의의 경계로 구간을 나누어 구간별 데이터수와, 구간 경계를 리턴|2개의 배열이 리턴됨, 하나의 변수로 받으면 2차원 배열이 됨|\n",
    "|np.histogram(arr, [`구간 경계`]|구간의 경계를 직접 정의해줌, 리턴값은 위 메서드와 동일||\n",
    "|arr.ndim|차원의 크기|2차원 배열 = 2|\n",
    "|arr.shape|각 차원별 원소수|원소의 수가 3개인 배열을 4개 가지고 있는 2차원 배열 = (4, 3)\n",
    "|arr.dtype|원소의 데이터 타입||\n",
    "|np.sum(arr, axis=0)|2차원배열 기초통계량|axis=0 : 세로 더하기(열), axis=1: 가로 더하기(행)/ sum,min,max,average..등등 다됨| \n",
    "|np.random.rand(`숫자`)|0부터 1사이의 범위에서 `숫자`개의 값을 갖는 1차원배열||\n",
    "|np.random.rand(`숫자1`, `숫자2`)|0과 1사이의 범위에서 `숫자1`행 `숫자2`열인 2차원 배열||\n",
    "|np.random.randint('숫자1`,`숫자2`, `숫자3`)| 숫자1부터 숫자2전까지의 랜덤값을 숫자3 개의 원소를 갖는 1차원 배열||\n",
    "|np.random.randint(`숫자1`, `숫자2`, `숫자3, 4`)| 숫자1부터 숫자2까지의 랜덤값을 숫자3행 숫자4 열인 2차원배열 생성|\n",
    "|np.random.randn(`숫자`)| 표준 정규분포를 따르는 원소를 `숫자`개의 원소를 갖는 1차원 배열|\n",
    "|np.random.randn(`숫자1`, `숫자2`)|표준 정규분포를 따르는 원소는 `숫자1`행 `숫자2`열인 2차원배열||\n",
    "|np.random.normal(0, 1, `숫자3`)|평균은 0, 표준편차1의 정규분포에서 `숫자3`개의 원소를 갖는 1차열 배열||\n",
    "|np.random.normal(0, 1, (`숫자1`, `숫자2`))|평균은 0, 표준편차 1의 정규분포에서 `숫자1`행, `숫자2`열인 2차열 배열을 리턴함|행은 2차열 배열의 원소의 개수, 열은 2차열 배열안의 배열의 원소의 개수임| "
   ]
  },
  {
   "cell_type": "markdown",
   "metadata": {},
   "source": []
  },
  {
   "cell_type": "markdown",
   "metadata": {},
   "source": []
  },
  {
   "cell_type": "code",
   "execution_count": null,
   "metadata": {},
   "outputs": [],
   "source": []
  },
  {
   "cell_type": "markdown",
   "metadata": {},
   "source": []
  }
 ],
 "metadata": {
  "kernelspec": {
   "display_name": "Python 3",
   "language": "python",
   "name": "python3"
  },
  "language_info": {
   "name": "python",
   "version": "3.12.0"
  }
 },
 "nbformat": 4,
 "nbformat_minor": 2
}
