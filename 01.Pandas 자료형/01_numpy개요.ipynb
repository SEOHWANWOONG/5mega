{
 "cells": [
  {
   "cell_type": "markdown",
   "metadata": {},
   "source": [
    "# Numpy\n",
    "\n",
    "## 01. 개요\n",
    "\n",
    ">Numeric Python\n",
    "\n",
    "- 다차원 배열을 쉽게 처리하고 효율적으로 사용할 수 있도록 지원하는 파이썬 패키지\n",
    "- 데이터 구조 외에도 수치 계산을 위해 효율적으로 구현된 기능을 제공\n",
    "- 데이터 분석에서 pandas와 함께 자주 사용하는 도구\n",
    "- 실제로 데이터 분석을 수행하기 위한 전제 조건은 컴퓨터가 이해할 수 있도록 데이터를 숫자 형식으로 변환하는 것임 -> 데이터 분석을 하기위해서 데이터를 숫자형식으로 변환해야한다\n",
    "- 파이썬 list 자료형의 경우 데이터의 크기가 커질수록 저장 및 가공에 효율성을 보장하지 못함\n",
    "- 이러한 단점을 보완하기 위한 패키지이기 때문에 Data Science에서 핵심적인 도구로 인식되고 있음"
   ]
  },
  {
   "cell_type": "markdown",
   "metadata": {},
   "source": [
    "## 02. 준비과정"
   ]
  },
  {
   "cell_type": "markdown",
   "metadata": {},
   "source": [
    "### 패키지 참조"
   ]
  },
  {
   "cell_type": "code",
   "execution_count": 2,
   "metadata": {},
   "outputs": [],
   "source": [
    "import numpy as np"
   ]
  },
  {
   "cell_type": "markdown",
   "metadata": {},
   "source": [
    "## 03. Numpy가 제공하는 데이터 타입\n",
    "\n",
    "> 리스트의 업그레이드 버전인 **배열(array)** 라는 데이터 타입을 제공합니다. - > 리스트 != 배열\n",
    "\n",
    "- list 타입 : 서로 다른 타입의 원소를 허용한다 ex) [1, 'hello'] # ==, !=\n",
    "- array 타입 : 반드시 모든 원소의 데이터 타입이 동일해야 한다.  # is, not is"
   ]
  },
  {
   "cell_type": "markdown",
   "metadata": {},
   "source": [
    "### 1.numpy 배열 생성과 기본활용\n",
    "\n",
    "> 리스트를 통한 1차원 배열 만들기\n",
    "- 인덱스 번호와 길이의 존재\n",
    "- 반복문을 통한 원소의 탐색\n",
    "- 인덱싱, 슬라이싱"
   ]
  },
  {
   "cell_type": "markdown",
   "metadata": {},
   "source": []
  },
  {
   "cell_type": "code",
   "execution_count": 3,
   "metadata": {},
   "outputs": [
    {
     "data": {
      "text/plain": [
       "array([1, 3, 5, 7, 9])"
      ]
     },
     "execution_count": 3,
     "metadata": {},
     "output_type": "execute_result"
    }
   ],
   "source": [
    "arr = np.array([1, 3, 5, 7, 9])\n",
    "arr"
   ]
  },
  {
   "cell_type": "markdown",
   "metadata": {},
   "source": [
    "### 2. 배열의 크기\n",
    "\n",
    "기본 특성은 list와 동일"
   ]
  },
  {
   "cell_type": "code",
   "execution_count": 4,
   "metadata": {},
   "outputs": [
    {
     "data": {
      "text/plain": [
       "5"
      ]
     },
     "execution_count": 4,
     "metadata": {},
     "output_type": "execute_result"
    }
   ],
   "source": [
    "size = len(arr)\n",
    "size"
   ]
  },
  {
   "cell_type": "markdown",
   "metadata": {},
   "source": [
    "### 3. 배열의 원소\n",
    "\n",
    "리스트와 마찬가지로 인덱스 번호가 존재"
   ]
  },
  {
   "cell_type": "code",
   "execution_count": 5,
   "metadata": {},
   "outputs": [
    {
     "name": "stdout",
     "output_type": "stream",
     "text": [
      "3\n",
      "1\n"
     ]
    }
   ],
   "source": [
    "print(arr[1])\n",
    "print(arr[0])"
   ]
  },
  {
   "cell_type": "markdown",
   "metadata": {},
   "source": [
    "### 4. 반복문을 통한 활용\n",
    "\n",
    "리스트와 동일하게 사용할 수 있다\n"
   ]
  },
  {
   "cell_type": "code",
   "execution_count": 6,
   "metadata": {},
   "outputs": [
    {
     "name": "stdout",
     "output_type": "stream",
     "text": [
      "0 1\n",
      "1 3\n",
      "2 5\n",
      "3 7\n",
      "4 9\n"
     ]
    }
   ],
   "source": [
    "for i, v in enumerate(arr):\n",
    "    print(i, v)"
   ]
  },
  {
   "cell_type": "markdown",
   "metadata": {},
   "source": [
    "## 04. numpy배열의 특성\n",
    "\n",
    "### 1. list 타입의 경우\n",
    "\n",
    "서로다른 타입의 원소 허용\n"
   ]
  },
  {
   "cell_type": "code",
   "execution_count": 18,
   "metadata": {},
   "outputs": [],
   "source": [
    "arrr = [100, 3.14, True]"
   ]
  },
  {
   "cell_type": "markdown",
   "metadata": {},
   "source": [
    "### 2. numpy 배열의 경우\n",
    "\n",
    "리스트를 배열로 변환할 경우 원소의 타입이 서로 다른것을 허용하지 않기 때문에 가장 포괄적인 형태의 자료형으로 통일함.\n",
    "> 'arrr'같은 경우는 실수의 범위가 더 크므로 모든 원소가 실수형으로 변환됨"
   ]
  },
  {
   "cell_type": "code",
   "execution_count": 8,
   "metadata": {},
   "outputs": [
    {
     "name": "stdout",
     "output_type": "stream",
     "text": [
      "[100.     3.14   1.  ]\n"
     ]
    }
   ],
   "source": [
    "arr2 = np.array(arrr)\n",
    "print(arr2)"
   ]
  },
  {
   "cell_type": "markdown",
   "metadata": {},
   "source": [
    "### 3. 강제 형 변환\n",
    "\n",
    "'np.array()' 메서드에 'dtype' 파라미터로 특정 타입을 강제 지정할 수 있음\n",
    "> 실수형 값을 정수로 변환하는 과정에서 소수점 아래는 반올림이 아닌 모두 버린다(삭제 개념)"
   ]
  },
  {
   "cell_type": "code",
   "execution_count": 21,
   "metadata": {},
   "outputs": [
    {
     "name": "stdout",
     "output_type": "stream",
     "text": [
      "[100   3   1]\n"
     ]
    }
   ],
   "source": [
    "arr4 = np.array(arrr, dtype = 'int')\n",
    "print(arr4)"
   ]
  },
  {
   "cell_type": "markdown",
   "metadata": {},
   "source": [
    "### 4. 문자열이 포함된 경우\n",
    "\n",
    "모든 프로그래밍 언어에서 가장 표현범위가 넓은 타입은 문자열이다\n",
    "\n",
    "그러므로 문자열이 포함된 리스트를 배열로 변환할 경우 모든 원소가 문자열이 된다."
   ]
  },
  {
   "cell_type": "code",
   "execution_count": 20,
   "metadata": {},
   "outputs": [
    {
     "name": "stdout",
     "output_type": "stream",
     "text": [
      "['1.2' '3' '4' 'True']\n"
     ]
    },
    {
     "data": {
      "text/plain": [
       "array(['1.2', '3', '4', 'True'], dtype='<U32')"
      ]
     },
     "execution_count": 20,
     "metadata": {},
     "output_type": "execute_result"
    }
   ],
   "source": [
    "arr5= np.array([1.2, 3, '4', True])\n",
    "print(arr5)\n",
    "arr5\n",
    "\n",
    "# 리스트와 array형식의 눈에 띄는 차이점은 원소마다 컴마가 찍히냐 안찍히냐 차이임, 확실히 확인하는 방법은 type함수 써서 확인하는 것임"
   ]
  },
  {
   "cell_type": "markdown",
   "metadata": {},
   "source": [
    "## 05. list 타입으로 역변환\n",
    "\n",
    "서로 호환 가능"
   ]
  },
  {
   "cell_type": "code",
   "execution_count": 15,
   "metadata": {},
   "outputs": [
    {
     "name": "stdout",
     "output_type": "stream",
     "text": [
      "<class 'list'>\n"
     ]
    },
    {
     "data": {
      "text/plain": [
       "['1.2', '3', '4']"
      ]
     },
     "execution_count": 15,
     "metadata": {},
     "output_type": "execute_result"
    }
   ],
   "source": [
    "mylist = list(arr5)\n",
    "print(type(mylist))\n",
    "mylist"
   ]
  },
  {
   "cell_type": "markdown",
   "metadata": {},
   "source": []
  },
  {
   "cell_type": "code",
   "execution_count": null,
   "metadata": {},
   "outputs": [],
   "source": []
  }
 ],
 "metadata": {
  "kernelspec": {
   "display_name": "Python 3",
   "language": "python",
   "name": "python3"
  },
  "language_info": {
   "codemirror_mode": {
    "name": "ipython",
    "version": 3
   },
   "file_extension": ".py",
   "mimetype": "text/x-python",
   "name": "python",
   "nbconvert_exporter": "python",
   "pygments_lexer": "ipython3",
   "version": "3.12.0"
  }
 },
 "nbformat": 4,
 "nbformat_minor": 2
}
