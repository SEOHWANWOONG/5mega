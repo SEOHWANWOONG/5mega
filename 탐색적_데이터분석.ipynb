{
 "cells": [
  {
   "cell_type": "markdown",
   "metadata": {},
   "source": [
    "# 탐색적 데이터 분석(EDA) ~~> NUMPY, PANDAS\n",
    "\n",
    "## 과정\n",
    "\n"
   ]
  },
  {
   "cell_type": "markdown",
   "metadata": {},
   "source": [
    "1. 데이터 다루기 : - > LIST, DICT -> numpy -> Series -> dataframe(엑셀) # 데이터프레임은 자료형구조 이름임 \n",
    "2. 데이터 전처리 : 데이터 가공 \n",
    "   1. 행과 열을 재배치하거나 병합\n",
    "   2. 데이터를 재구조화, 집계# 재구조화-> group by, 집계 -> join느낌\n",
    "   3. 파생 더미변수 생성\n",
    "   4. 데이터 정규화\n",
    "   5. 데이터 분할\n",
    "   6. 데이터 증폭\n",
    "3. 시각화 -> 그래프\n",
    "4. 기술 통계(기초통계량)\n",
    "5. 데이터 정제\n",
    "\n",
    "\n",
    "* QGIS 지도 시각화 프로그램 "
   ]
  },
  {
   "cell_type": "markdown",
   "metadata": {},
   "source": [
    "> numpy: 데이터분석의 근간이 되는 수학, 과학 연산패키지\n",
    "> "
   ]
  },
  {
   "cell_type": "markdown",
   "metadata": {},
   "source": []
  }
 ],
 "metadata": {
  "kernelspec": {
   "display_name": "Python 3",
   "language": "python",
   "name": "python3"
  },
  "language_info": {
   "name": "python",
   "version": "3.12.0"
  }
 },
 "nbformat": 4,
 "nbformat_minor": 2
}
